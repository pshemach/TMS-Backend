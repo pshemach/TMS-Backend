{
 "cells": [
  {
   "cell_type": "code",
   "execution_count": 1,
   "id": "7e62ba91",
   "metadata": {},
   "outputs": [
    {
     "name": "stdout",
     "output_type": "stream",
     "text": [
      "c:\\Users\\HP\\OneDrive - University of Moratuwa\\Desktop\\TMS-Project\\TMS-Backend\n"
     ]
    }
   ],
   "source": [
    "%cd .."
   ]
  },
  {
   "cell_type": "code",
   "execution_count": 2,
   "id": "87cdf350",
   "metadata": {},
   "outputs": [],
   "source": [
    "import pandas as pd \n",
    "from src.database.database import engine\n",
    "from config.settings import Settings\n",
    "from src.utils.master_utils import get_osrm_data\n",
    "import numpy as np\n",
    "from concurrent.futures import ThreadPoolExecutor, as_completed\n",
    "import time\n",
    "\n",
    "class MasterManager:\n",
    "    def __init__(self, configs=None):\n",
    "        self.config = configs\n",
    "        if self.config is None:\n",
    "            self.config = Settings()\n",
    "            \n",
    "        self.gps_df = self._load_gps()\n",
    "        \n",
    "        self.distance_matrix_path = self.config.distance_matrix_file_path\n",
    "        self.duration_matrix_path = self.config.duration_matrix_file_path\n",
    "        \n",
    "    def _load_gps(self):\n",
    "        df = pd.read_sql(\"SELECT * FROM master_gps\", engine)\n",
    "        gps_csv_path = self.config.master_folder_path / self.config.gps_file_name\n",
    "        df.to_csv(gps_csv_path, index=False)\n",
    "        return df\n",
    "    \n",
    "    # def update_matrix(self):\n",
    "    #     start = time.time()\n",
    "    #     if not self.distance_matrix_path.exists():\n",
    "    #         # gps locations and its shop codes\n",
    "    #         shop_codes = self.gps_df['shop_code'].values\n",
    "    #         coords = self.gps_df[['latitude', 'longitude']].values\n",
    "    #         # create  matrixes\n",
    "    #         distance_matrix = np.zeros((len(shop_codes), len(shop_codes)))\n",
    "    #         duration_matrix = np.zeros((len(shop_codes), len(shop_codes)))\n",
    "    #         for i in range(len(shop_codes)):\n",
    "    #             for j  in range(i, len(shop_codes)):\n",
    "    #                 if i == j:\n",
    "    #                     distance_matrix[i][j] = 0\n",
    "    #                     duration_matrix[i][j] = 0\n",
    "    #                     continue\n",
    "    #                 origin = tuple(coords[i])\n",
    "    #                 destination = tuple(coords[j])\n",
    "                \n",
    "    #                 _, distance, duration = get_osrm_data(origin, destination)\n",
    "                    \n",
    "    #                 distance_matrix[i][j] = round(distance, 3)\n",
    "    #                 distance_matrix[j][i] = round(distance, 3)\n",
    "                    \n",
    "    #                 duration_matrix[i][j] = round(duration, 2)\n",
    "    #                 duration_matrix[j][i] = round(duration, 2)\n",
    "    #     print(time.time()-start)\n",
    "    #     print(distance_matrix)\n",
    "    #     print(duration_matrix)\n",
    "\n",
    "    def _get_osrm_thread(self, origin, destination):\n",
    "        _, distance, duration = get_osrm_data(origin, destination)\n",
    "        return round(distance, 3), round(duration, 2)\n",
    "\n",
    "    def update_matrix(self):\n",
    "        start = time.time()\n",
    "        if not self.distance_matrix_path.exists():\n",
    "            # gps locations and its shop codes\n",
    "            shop_codes = self.gps_df['shop_code'].values\n",
    "            coords = self.gps_df[['latitude', 'longitude']].values\n",
    "            # create matrixes\n",
    "            distance_matrix = np.zeros((len(shop_codes), len(shop_codes)))\n",
    "            duration_matrix = np.zeros((len(shop_codes), len(shop_codes)))\n",
    "            \n",
    "            # **THREAD MAGIC: REPLACE YOUR LOOP WITH THESE 6 LINES**\n",
    "            with ThreadPoolExecutor(max_workers=50) as executor:\n",
    "                futures = {}\n",
    "                for i in range(len(shop_codes)):\n",
    "                    for j in range(i+1, len(shop_codes)):  # Skip i==j & duplicates\n",
    "                        origin = tuple(coords[i])\n",
    "                        destination = tuple(coords[j])\n",
    "                        future = executor.submit(self._get_osrm_thread, origin, destination)\n",
    "                        futures[future] = (i, j)\n",
    "                \n",
    "                for future in as_completed(futures):\n",
    "                    i, j = futures[future]\n",
    "                    distance, duration = future.result()\n",
    "                    distance_matrix[i][j] = distance\n",
    "                    distance_matrix[j][i] = distance\n",
    "                    duration_matrix[i][j] = duration\n",
    "                    duration_matrix[j][i] = duration\n",
    "                    \n",
    "            distance_df = pd.DataFrame(distance_matrix, columns=shop_codes, index=list(shop_codes))\n",
    "            duration_df = pd.DataFrame(duration_matrix, columns=shop_codes, index=list(shop_codes))\n",
    "            \n",
    "            distance_df.to_csv(self.distance_matrix_path)\n",
    "            duration_df.to_csv(self.duration_matrix_path)\n",
    "            self.gps_df.to_csv(self.config.master_folder_path/'previous_gps.csv', index=False)\n",
    "        print(time.time() - start)     \n",
    "        print(distance_matrix)\n",
    "        print(duration_matrix)"
   ]
  },
  {
   "cell_type": "code",
   "execution_count": 16,
   "id": "9c44891d",
   "metadata": {},
   "outputs": [],
   "source": [
    "manager = MasterManager()"
   ]
  },
  {
   "cell_type": "code",
   "execution_count": 17,
   "id": "3b11b007",
   "metadata": {},
   "outputs": [
    {
     "data": {
      "text/plain": [
       "['0', '3', '4', '5']"
      ]
     },
     "execution_count": 17,
     "metadata": {},
     "output_type": "execute_result"
    }
   ],
   "source": [
    "list(manager.gps_df['shop_code'].values)"
   ]
  },
  {
   "cell_type": "code",
   "execution_count": 18,
   "id": "e0c9a7a3",
   "metadata": {},
   "outputs": [
    {
     "name": "stdout",
     "output_type": "stream",
     "text": [
      "20.282389640808105\n",
      "[[ 0.     7.41  24.93  16.722]\n",
      " [ 7.41   0.    18.816 10.303]\n",
      " [24.93  18.816  0.    11.478]\n",
      " [16.722 10.303 11.478  0.   ]]\n",
      "[[ 0.    9.13 32.39 21.23]\n",
      " [ 9.13  0.   25.71 14.04]\n",
      " [32.39 25.71  0.   15.92]\n",
      " [21.23 14.04 15.92  0.  ]]\n"
     ]
    }
   ],
   "source": [
    "manager.update_matrix()"
   ]
  },
  {
   "cell_type": "code",
   "execution_count": 119,
   "id": "abdaa83b",
   "metadata": {},
   "outputs": [
    {
     "name": "stdout",
     "output_type": "stream",
     "text": [
      "6.137975692749023\n",
      "[[ 0.     7.41  24.93  16.722]\n",
      " [ 7.41   0.    18.816 10.303]\n",
      " [24.93  18.816  0.    11.478]\n",
      " [16.722 10.303 11.478  0.   ]]\n",
      "[[ 0.    9.13 32.39 21.23]\n",
      " [ 9.13  0.   25.71 14.04]\n",
      " [32.39 25.71  0.   15.92]\n",
      " [21.23 14.04 15.92  0.  ]]\n"
     ]
    }
   ],
   "source": [
    "manager.update_matrix()"
   ]
  },
  {
   "cell_type": "code",
   "execution_count": null,
   "id": "7f90e7e4",
   "metadata": {},
   "outputs": [],
   "source": [
    "from sqlalchemy.orm import Session\n",
    "from typing import List, Dict, Tuple\n",
    "from datetime import datetime\n",
    "from src.utils.master_utils import get_osrm_data\n",
    "from src.database.models import GPSMaster, MatrixMaster\n",
    "\n",
    "class DistanceMatrixManager:\n",
    "    \"\"\"Manager class for distance matrix operations\"\"\"\n",
    "    \n",
    "    def __init__(self, db_session: Session):\n",
    "        self.db = db_session\n",
    "        \n",
    "    def calculate_distance(self, lat1: float, lon1: float, \n",
    "                          lat2: float, lon2: float) -> float:\n",
    "        \"\"\"\n",
    "        Calculate Haversine distance between two GPS coordinates.\n",
    "        Returns distance in kilometers.\n",
    "        \"\"\"\n",
    "        _, distance, duration = get_osrm_data((lat1,lon1), (lat2,lon2))\n",
    "        return distance, duration\n",
    "    \n",
    "    def process_pending_updates(self):\n",
    "        \"\"\"\n",
    "        Process all shops marked with matrix_status = 'to_update'.\n",
    "        Calculate distances and update matrix_status to 'updated'.\n",
    "        \"\"\"\n",
    "        # Get shops that need matrix update\n",
    "        pending_shops = self.db.query(GPSMaster).filter(\n",
    "            (GPSMaster.matrix_status == 'to_update') | \n",
    "            (GPSMaster.matrix_status == 'to_create')\n",
    "        ).all()\n",
    "        \n",
    "        if not pending_shops:\n",
    "            print(\"No pending updates found.\")\n",
    "            return 0\n",
    "                # Get all shops that are already in the matrix (status = 'updated')\n",
    "        existing_shops = self.db.query(GPSMaster).filter(\n",
    "            GPSMaster.matrix_status == 'updated'\n",
    "        ).all()\n",
    "        \n",
    "        total_calculations = 0\n",
    "        for pending_shop in pending_shops:\n",
    "            print(f\"Processing shop: {pending_shop.shop_code} (ID: {pending_shop.id})\")\n",
    "            \n",
    "            # Delete old distances if this shop was previously in matrix\n",
    "            self._delete_shop_distances(pending_shop.id)\n",
    "            \n",
    "            # Calculate distances to all existing shops\n",
    "            distances_added = self._add_shop_to_matrix(\n",
    "                pending_shop, \n",
    "                existing_shops\n",
    "            )\n",
    "            \n",
    "            # Also calculate distances to other pending shops\n",
    "            for other_pending in pending_shops:\n",
    "                if other_pending.id != pending_shop.id:\n",
    "                    self._add_distance_pair(pending_shop, other_pending)\n",
    "                    distances_added += 1\n",
    "            \n",
    "            # Update status to 'updated'\n",
    "            pending_shop.matrix_status = 'updated'\n",
    "            total_calculations += distances_added\n",
    "            \n",
    "\n",
    "        self.db.commit()\n",
    "        print(f\"\\nTotal: Processed {len(pending_shops)} shops, \"\n",
    "              f\"{total_calculations} distance calculations\")\n",
    "        \n",
    "        return total_calculations\n",
    "    \n",
    "    def _delete_shop_distances(self, shop_id: int):\n",
    "        \"\"\"Delete all distance entries for a specific shop\"\"\"\n",
    "        self.db.query(MatrixMaster).filter(\n",
    "            (MatrixMaster.shop_id_1 == shop_id) |\n",
    "            (MatrixMaster.shop_id_2 == shop_id)\n",
    "        ).delete(synchronize_session=False)\n",
    "        \n",
    "        \n",
    "    def _add_shop_to_matrix(self, new_shop: GPSMaster, \n",
    "                           existing_shops: List[GPSMaster]) -> int:\n",
    "        \"\"\"\n",
    "        Add a new shop to the matrix by calculating distances to all existing shops.\n",
    "        Returns count of distances added.\n",
    "        \"\"\"\n",
    "        \n",
    "        count = 0\n",
    "        for existing_shop in existing_shops:\n",
    "            if existing_shop.id != new_shop.id:\n",
    "                self._add_distance_pair(new_shop, existing_shop)\n",
    "                count += 1\n",
    "        \n",
    "        return count\n",
    "    \n",
    "    def _add_distance_pair(self, shop1: GPSMaster, shop2: GPSMaster):\n",
    "        \"\"\"\n",
    "        Add or update a single distance pair to the matrix.\n",
    "        Ensures shop_id_1 < shop_id_2 for upper triangle storage.\n",
    "        \"\"\"\n",
    "        distance, time = self.calculate_distance(\n",
    "            shop1.latitude, shop1.longitude,\n",
    "            shop2.latitude, shop2.longitude\n",
    "        )\n",
    "        \n",
    "        # Check if distance already exists\n",
    "        existing = self.db.query(MatrixMaster).filter(\n",
    "            MatrixMaster.shop_id_1 == shop1.id,\n",
    "            MatrixMaster.shop_id_2 == shop2.id\n",
    "        ).first()\n",
    "        \n",
    "        if existing:\n",
    "            existing.distance_km = distance\n",
    "            existing.time_minutes = time\n",
    "            existing.last_calculated = datetime.utcnow()\n",
    "        else:\n",
    "            new_distance = MatrixMaster(\n",
    "                shop_id_1=shop1.id,\n",
    "                shop_id_2=shop2.id,\n",
    "                shop_code_1=shop1.shop_code,\n",
    "                shop_code_2=shop2.shop_code,\n",
    "                distance_km=distance,\n",
    "                time_minutes=time,\n",
    "                last_calculated=datetime.utcnow()\n",
    "            )\n",
    "            self.db.add(new_distance)"
   ]
  },
  {
   "cell_type": "code",
   "execution_count": 7,
   "id": "0bf2237e",
   "metadata": {},
   "outputs": [],
   "source": [
    "from src.database.database import SessionLocal\n",
    "\n",
    "manager = DistanceMatrixManager(SessionLocal())"
   ]
  },
  {
   "cell_type": "code",
   "execution_count": 8,
   "id": "5b3ead38",
   "metadata": {},
   "outputs": [
    {
     "name": "stdout",
     "output_type": "stream",
     "text": [
      "Processing shop: 0 (ID: 1)\n",
      "Processing shop: 3 (ID: 2)\n",
      "Processing shop: 4 (ID: 3)\n",
      "Processing shop: 5 (ID: 4)\n",
      "\n",
      "Total: Processed 4 shops, 12 distance calculations\n"
     ]
    }
   ],
   "source": [
    "x = manager.process_pending_updates()"
   ]
  },
  {
   "cell_type": "code",
   "execution_count": 9,
   "id": "c6e58bd8",
   "metadata": {},
   "outputs": [
    {
     "data": {
      "text/plain": [
       "12"
      ]
     },
     "execution_count": 9,
     "metadata": {},
     "output_type": "execute_result"
    }
   ],
   "source": [
    "x"
   ]
  },
  {
   "cell_type": "code",
   "execution_count": null,
   "id": "312cfab8",
   "metadata": {},
   "outputs": [],
   "source": []
  }
 ],
 "metadata": {
  "kernelspec": {
   "display_name": "TMS-Backend",
   "language": "python",
   "name": "python3"
  },
  "language_info": {
   "codemirror_mode": {
    "name": "ipython",
    "version": 3
   },
   "file_extension": ".py",
   "mimetype": "text/x-python",
   "name": "python",
   "nbconvert_exporter": "python",
   "pygments_lexer": "ipython3",
   "version": "3.11.0"
  }
 },
 "nbformat": 4,
 "nbformat_minor": 5
}
