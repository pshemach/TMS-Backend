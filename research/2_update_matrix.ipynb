{
 "cells": [
  {
   "cell_type": "code",
   "execution_count": 2,
   "id": "7e62ba91",
   "metadata": {},
   "outputs": [
    {
     "name": "stdout",
     "output_type": "stream",
     "text": [
      "c:\\Users\\HP\\OneDrive - University of Moratuwa\\Desktop\\TMS-Project\\TMS-Backend\n"
     ]
    }
   ],
   "source": [
    "%cd .."
   ]
  },
  {
   "cell_type": "code",
   "execution_count": null,
   "id": "87cdf350",
   "metadata": {},
   "outputs": [],
   "source": [
    "import pandas as pd \n",
    "from src.database.database import engine\n",
    "from config.settings import Settings\n",
    "from src.utils.master_utils import get_osrm_data\n",
    "import numpy as np\n",
    "from concurrent.futures import ThreadPoolExecutor, as_completed\n",
    "import time\n",
    "\n",
    "class MasterManager:\n",
    "    def __init__(self, configs=None):\n",
    "        self.config = configs\n",
    "        if self.config is None:\n",
    "            self.config = Settings()\n",
    "            \n",
    "        self.gps_df = self._load_gps()\n",
    "        \n",
    "        self.distance_matrix_path = self.config.distance_matrix_file_path\n",
    "        self.duration_matrix_path = self.config.duration_matrix_file_path\n",
    "        \n",
    "    def _load_gps(self):\n",
    "        df = pd.read_sql(\"SELECT * FROM master_gps\", engine)\n",
    "        gps_csv_path = self.config.master_folder_path / self.config.gps_file_name\n",
    "        df.to_csv(gps_csv_path, index=False)\n",
    "        return df\n",
    "    \n",
    "    # def update_matrix(self):\n",
    "    #     start = time.time()\n",
    "    #     if not self.distance_matrix_path.exists():\n",
    "    #         # gps locations and its shop codes\n",
    "    #         shop_codes = self.gps_df['shop_code'].values\n",
    "    #         coords = self.gps_df[['latitude', 'longitude']].values\n",
    "    #         # create  matrixes\n",
    "    #         distance_matrix = np.zeros((len(shop_codes), len(shop_codes)))\n",
    "    #         duration_matrix = np.zeros((len(shop_codes), len(shop_codes)))\n",
    "    #         for i in range(len(shop_codes)):\n",
    "    #             for j  in range(i, len(shop_codes)):\n",
    "    #                 if i == j:\n",
    "    #                     distance_matrix[i][j] = 0\n",
    "    #                     duration_matrix[i][j] = 0\n",
    "    #                     continue\n",
    "    #                 origin = tuple(coords[i])\n",
    "    #                 destination = tuple(coords[j])\n",
    "                \n",
    "    #                 _, distance, duration = get_osrm_data(origin, destination)\n",
    "                    \n",
    "    #                 distance_matrix[i][j] = round(distance, 3)\n",
    "    #                 distance_matrix[j][i] = round(distance, 3)\n",
    "                    \n",
    "    #                 duration_matrix[i][j] = round(duration, 2)\n",
    "    #                 duration_matrix[j][i] = round(duration, 2)\n",
    "    #     print(time.time()-start)\n",
    "    #     print(distance_matrix)\n",
    "    #     print(duration_matrix)\n",
    "\n",
    "    def _get_osrm_thread(self, origin, destination):\n",
    "        _, distance, duration = get_osrm_data(origin, destination)\n",
    "        return round(distance, 3), round(duration, 2)\n",
    "\n",
    "    def update_matrix(self):\n",
    "        start = time.time()\n",
    "        if not self.distance_matrix_path.exists():\n",
    "            # gps locations and its shop codes\n",
    "            shop_codes = self.gps_df['shop_code'].values\n",
    "            coords = self.gps_df[['latitude', 'longitude']].values\n",
    "            # create matrixes\n",
    "            distance_matrix = np.zeros((len(shop_codes), len(shop_codes)))\n",
    "            duration_matrix = np.zeros((len(shop_codes), len(shop_codes)))\n",
    "            \n",
    "            # **THREAD MAGIC: REPLACE YOUR LOOP WITH THESE 6 LINES**\n",
    "            with ThreadPoolExecutor(max_workers=50) as executor:\n",
    "                futures = {}\n",
    "                for i in range(len(shop_codes)):\n",
    "                    for j in range(i+1, len(shop_codes)):  # Skip i==j & duplicates\n",
    "                        origin = tuple(coords[i])\n",
    "                        destination = tuple(coords[j])\n",
    "                        future = executor.submit(self._get_osrm_thread, origin, destination)\n",
    "                        futures[future] = (i, j)\n",
    "                \n",
    "                for future in as_completed(futures):\n",
    "                    i, j = futures[future]\n",
    "                    distance, duration = future.result()\n",
    "                    distance_matrix[i][j] = distance\n",
    "                    distance_matrix[j][i] = distance\n",
    "                    duration_matrix[i][j] = duration\n",
    "                    duration_matrix[j][i] = duration\n",
    "                    \n",
    "            distance_df = pd.DataFrame(distance_matrix, columns=shop_codes, index=list(shop_codes))\n",
    "            duration_df = pd.DataFrame(duration_matrix, columns=shop_codes, index=list(shop_codes))\n",
    "            \n",
    "            distance_df.to_csv(self.distance_matrix_path)\n",
    "            duration_df.to_csv(self.duration_matrix_path)\n",
    "            self.gps_df.to_csv(self.config.master_folder_path/'previous_gps.csv', index=False)\n",
    "        print(time.time() - start)     \n",
    "        print(distance_matrix)\n",
    "        print(duration_matrix)"
   ]
  },
  {
   "cell_type": "code",
   "execution_count": 16,
   "id": "9c44891d",
   "metadata": {},
   "outputs": [],
   "source": [
    "manager = MasterManager()"
   ]
  },
  {
   "cell_type": "code",
   "execution_count": 17,
   "id": "3b11b007",
   "metadata": {},
   "outputs": [
    {
     "data": {
      "text/plain": [
       "['0', '3', '4', '5']"
      ]
     },
     "execution_count": 17,
     "metadata": {},
     "output_type": "execute_result"
    }
   ],
   "source": [
    "list(manager.gps_df['shop_code'].values)"
   ]
  },
  {
   "cell_type": "code",
   "execution_count": 18,
   "id": "e0c9a7a3",
   "metadata": {},
   "outputs": [
    {
     "name": "stdout",
     "output_type": "stream",
     "text": [
      "20.282389640808105\n",
      "[[ 0.     7.41  24.93  16.722]\n",
      " [ 7.41   0.    18.816 10.303]\n",
      " [24.93  18.816  0.    11.478]\n",
      " [16.722 10.303 11.478  0.   ]]\n",
      "[[ 0.    9.13 32.39 21.23]\n",
      " [ 9.13  0.   25.71 14.04]\n",
      " [32.39 25.71  0.   15.92]\n",
      " [21.23 14.04 15.92  0.  ]]\n"
     ]
    }
   ],
   "source": [
    "manager.update_matrix()"
   ]
  },
  {
   "cell_type": "code",
   "execution_count": 119,
   "id": "abdaa83b",
   "metadata": {},
   "outputs": [
    {
     "name": "stdout",
     "output_type": "stream",
     "text": [
      "6.137975692749023\n",
      "[[ 0.     7.41  24.93  16.722]\n",
      " [ 7.41   0.    18.816 10.303]\n",
      " [24.93  18.816  0.    11.478]\n",
      " [16.722 10.303 11.478  0.   ]]\n",
      "[[ 0.    9.13 32.39 21.23]\n",
      " [ 9.13  0.   25.71 14.04]\n",
      " [32.39 25.71  0.   15.92]\n",
      " [21.23 14.04 15.92  0.  ]]\n"
     ]
    }
   ],
   "source": [
    "manager.update_matrix()"
   ]
  },
  {
   "cell_type": "code",
   "execution_count": 106,
   "id": "e34e375c",
   "metadata": {},
   "outputs": [],
   "source": [
    "df = manager.gps_df"
   ]
  },
  {
   "cell_type": "code",
   "execution_count": 109,
   "id": "279bddde",
   "metadata": {},
   "outputs": [],
   "source": [
    "from itertools import combinations\n",
    "\n",
    "shop_codes = df['shop_code'].values\n",
    "coords = df[['latitude', 'longitude']].values\n",
    "n = len(shop_codes)\n",
    "\n",
    "pairs = [(coords[i], coords[j]) for i, j in combinations(range(n), 2)]"
   ]
  },
  {
   "cell_type": "code",
   "execution_count": 110,
   "id": "950deb32",
   "metadata": {},
   "outputs": [
    {
     "data": {
      "text/plain": [
       "[(array([ 7.0038321, 79.9394804]), array([ 6.9906677, 79.8931709])),\n",
       " (array([ 7.0038321, 79.9394804]), array([ 6.8409891, 79.9017187])),\n",
       " (array([ 7.0038321, 79.9394804]), array([ 6.9175873, 79.8585189])),\n",
       " (array([ 6.9906677, 79.8931709]), array([ 6.8409891, 79.9017187])),\n",
       " (array([ 6.9906677, 79.8931709]), array([ 6.9175873, 79.8585189])),\n",
       " (array([ 6.8409891, 79.9017187]), array([ 6.9175873, 79.8585189]))]"
      ]
     },
     "execution_count": 110,
     "metadata": {},
     "output_type": "execute_result"
    }
   ],
   "source": [
    "pairs"
   ]
  },
  {
   "cell_type": "code",
   "execution_count": null,
   "id": "dd296780",
   "metadata": {},
   "outputs": [],
   "source": [
    "import pandas as pd \n",
    "from src.database.database import engine\n",
    "from config.settings import Settings\n",
    "import numpy as np\n",
    "import asyncio\n",
    "import requests  # For async session\n",
    "from itertools import combinations  # For pairs if needed\n",
    "\n",
    "# **UPDATE get_osrm_data TO ASYNC IN utils/master_utils.py**\n",
    "# Replace your sync get_osrm_data with this async version:\n",
    "async def get_osrm_data_async(session, origin, destination):\n",
    "    \"\"\"\n",
    "    ASYNC version - Get distance and duration\n",
    "    \"\"\"\n",
    "    osrm_base_url = \"http://router.project-osrm.org/route/v1/car\"\n",
    "    url = f\"{osrm_base_url}/{origin[1]},{origin[0]};{destination[1]},{destination[0]}?overview=false\"\n",
    "    \n",
    "    try:\n",
    "        response = await session.get(url, timeout=10)\n",
    "        if response.status_code == 200:\n",
    "            data = response.json()\n",
    "            if \"routes\" in data and len(data[\"routes\"]) > 0:\n",
    "                distance = data[\"routes\"][0][\"distance\"] / 1000  # km\n",
    "                duration = data[\"routes\"][0][\"duration\"] / 60  # min\n",
    "                return round(distance, 3), round(duration, 2)\n",
    "        return 0.0, 0.0\n",
    "    except Exception as e:\n",
    "        print(f\"Error: {e}\")\n",
    "        return 0.0, 0.0\n",
    "\n",
    "class MasterManager:\n",
    "    def __init__(self, configs=None):\n",
    "        self.config = configs\n",
    "        if self.config is None:\n",
    "            self.config = Settings()\n",
    "            \n",
    "        self.gps_df = self._load_gps()\n",
    "        \n",
    "        self.distance_matrix_path = self.config.distance_matrix_file_path\n",
    "        self.duration_matrix_path = self.config.duration_matrix_file_path\n",
    "        \n",
    "    def _load_gps(self):\n",
    "        df = pd.read_sql(\"SELECT * FROM master_gps\", engine)\n",
    "        gps_csv_path = self.config.master_folder_path / self.config.gps_file_name\n",
    "        df.to_csv(gps_csv_path, index=False)\n",
    "        return df\n",
    "    \n",
    "    # **ASYNC HELPER METHOD (ADD THIS)**\n",
    "    async def _fetch_osrm(self, session, origin, destination):\n",
    "        # from src.utils.master_utils import get_osrm_data_async\n",
    "        return await get_osrm_data_async(session, origin, destination)\n",
    "    \n",
    "    def update_matrix(self):\n",
    "        if not self.distance_matrix_path.exists():\n",
    "            # gps locations and its shop codes\n",
    "            shop_codes = self.gps_df['shop_code'].values\n",
    "            coords = self.gps_df[['latitude', 'longitude']].values\n",
    "            # create matrixes\n",
    "            distance_matrix = np.zeros((len(shop_codes), len(shop_codes)))\n",
    "            duration_matrix = np.zeros((len(shop_codes), len(shop_codes)))\n",
    "            \n",
    "            # **ASYNC MAGIC: REPLACE YOUR LOOP**\n",
    "            print(f\"🚀 ASYNC Launching {len(shop_codes)*(len(shop_codes)-1)//2} parallel calls...\")\n",
    "            asyncio.run(self._async_update(coords, distance_matrix, duration_matrix))\n",
    "            \n",
    "            print(distance_matrix)\n",
    "            print(duration_matrix)\n",
    "            \n",
    "    \n",
    "    # **ADD THIS ASYNC METHOD**\n",
    "    async def _async_update(self, coords, distance_matrix, duration_matrix):\n",
    "        async with requests.Session() as session:\n",
    "            tasks = []\n",
    "            n = len(coords)\n",
    "            for i in range(n):\n",
    "                for j in range(i + 1, n):  # Upper triangle only\n",
    "                    origin = tuple(coords[i])\n",
    "                    destination = tuple(coords[j])\n",
    "                    tasks.append(self._fetch_osrm(session, origin, destination))\n",
    "            \n",
    "            results = await asyncio.gather(*tasks, return_exceptions=True)\n",
    "            \n",
    "            # Fill results back\n",
    "            idx = 0\n",
    "            for i in range(n):\n",
    "                for j in range(i + 1, n):\n",
    "                    if isinstance(results[idx], Exception):\n",
    "                        dist, dur = 0.0, 0.0\n",
    "                    else:\n",
    "                        dist, dur = results[idx]\n",
    "                    distance_matrix[i][j] = dist\n",
    "                    distance_matrix[j][i] = dist\n",
    "                    duration_matrix[i][j] = dur\n",
    "                    duration_matrix[j][i] = dur\n",
    "                    idx += 1\n",
    "            \n",
    "            # Diagonals\n",
    "            np.fill_diagonal(distance_matrix, 0)\n",
    "            np.fill_diagonal(duration_matrix, 0)"
   ]
  },
  {
   "cell_type": "code",
   "execution_count": 22,
   "id": "e4dbeca4",
   "metadata": {},
   "outputs": [
    {
     "name": "stdout",
     "output_type": "stream",
     "text": [
      "🚀 ASYNC Launching 6 parallel calls...\n"
     ]
    },
    {
     "ename": "RuntimeError",
     "evalue": "asyncio.run() cannot be called from a running event loop",
     "output_type": "error",
     "traceback": [
      "\u001b[31m---------------------------------------------------------------------------\u001b[39m",
      "\u001b[31mRuntimeError\u001b[39m                              Traceback (most recent call last)",
      "\u001b[36mCell\u001b[39m\u001b[36m \u001b[39m\u001b[32mIn[22]\u001b[39m\u001b[32m, line 2\u001b[39m\n\u001b[32m      1\u001b[39m manager = MasterManager()\n\u001b[32m----> \u001b[39m\u001b[32m2\u001b[39m \u001b[43mmanager\u001b[49m\u001b[43m.\u001b[49m\u001b[43mupdate_matrix\u001b[49m\u001b[43m(\u001b[49m\u001b[43m)\u001b[49m\n",
      "\u001b[36mCell\u001b[39m\u001b[36m \u001b[39m\u001b[32mIn[21]\u001b[39m\u001b[32m, line 64\u001b[39m, in \u001b[36mMasterManager.update_matrix\u001b[39m\u001b[34m(self)\u001b[39m\n\u001b[32m     62\u001b[39m \u001b[38;5;66;03m# **ASYNC MAGIC: REPLACE YOUR LOOP**\u001b[39;00m\n\u001b[32m     63\u001b[39m \u001b[38;5;28mprint\u001b[39m(\u001b[33mf\u001b[39m\u001b[33m\"\u001b[39m\u001b[33m🚀 ASYNC Launching \u001b[39m\u001b[38;5;132;01m{\u001b[39;00m\u001b[38;5;28mlen\u001b[39m(shop_codes)*(\u001b[38;5;28mlen\u001b[39m(shop_codes)-\u001b[32m1\u001b[39m)//\u001b[32m2\u001b[39m\u001b[38;5;132;01m}\u001b[39;00m\u001b[33m parallel calls...\u001b[39m\u001b[33m\"\u001b[39m)\n\u001b[32m---> \u001b[39m\u001b[32m64\u001b[39m \u001b[43masyncio\u001b[49m\u001b[43m.\u001b[49m\u001b[43mrun\u001b[49m\u001b[43m(\u001b[49m\u001b[38;5;28;43mself\u001b[39;49m\u001b[43m.\u001b[49m\u001b[43m_async_update\u001b[49m\u001b[43m(\u001b[49m\u001b[43mcoords\u001b[49m\u001b[43m,\u001b[49m\u001b[43m \u001b[49m\u001b[43mdistance_matrix\u001b[49m\u001b[43m,\u001b[49m\u001b[43m \u001b[49m\u001b[43mduration_matrix\u001b[49m\u001b[43m)\u001b[49m\u001b[43m)\u001b[49m\n\u001b[32m     66\u001b[39m \u001b[38;5;28mprint\u001b[39m(distance_matrix)\n\u001b[32m     67\u001b[39m \u001b[38;5;28mprint\u001b[39m(duration_matrix)\n",
      "\u001b[36mFile \u001b[39m\u001b[32m~\\AppData\\Local\\Programs\\Python\\Python311\\Lib\\asyncio\\runners.py:186\u001b[39m, in \u001b[36mrun\u001b[39m\u001b[34m(main, debug)\u001b[39m\n\u001b[32m    161\u001b[39m \u001b[38;5;250m\u001b[39m\u001b[33;03m\"\"\"Execute the coroutine and return the result.\u001b[39;00m\n\u001b[32m    162\u001b[39m \n\u001b[32m    163\u001b[39m \u001b[33;03mThis function runs the passed coroutine, taking care of\u001b[39;00m\n\u001b[32m   (...)\u001b[39m\u001b[32m    182\u001b[39m \u001b[33;03m    asyncio.run(main())\u001b[39;00m\n\u001b[32m    183\u001b[39m \u001b[33;03m\"\"\"\u001b[39;00m\n\u001b[32m    184\u001b[39m \u001b[38;5;28;01mif\u001b[39;00m events._get_running_loop() \u001b[38;5;129;01mis\u001b[39;00m \u001b[38;5;129;01mnot\u001b[39;00m \u001b[38;5;28;01mNone\u001b[39;00m:\n\u001b[32m    185\u001b[39m     \u001b[38;5;66;03m# fail fast with short traceback\u001b[39;00m\n\u001b[32m--> \u001b[39m\u001b[32m186\u001b[39m     \u001b[38;5;28;01mraise\u001b[39;00m \u001b[38;5;167;01mRuntimeError\u001b[39;00m(\n\u001b[32m    187\u001b[39m         \u001b[33m\"\u001b[39m\u001b[33masyncio.run() cannot be called from a running event loop\u001b[39m\u001b[33m\"\u001b[39m)\n\u001b[32m    189\u001b[39m \u001b[38;5;28;01mwith\u001b[39;00m Runner(debug=debug) \u001b[38;5;28;01mas\u001b[39;00m runner:\n\u001b[32m    190\u001b[39m     \u001b[38;5;28;01mreturn\u001b[39;00m runner.run(main)\n",
      "\u001b[31mRuntimeError\u001b[39m: asyncio.run() cannot be called from a running event loop"
     ]
    }
   ],
   "source": [
    "manager = MasterManager()\n",
    "manager.update_matrix()"
   ]
  },
  {
   "cell_type": "code",
   "execution_count": null,
   "id": "9f241a2b",
   "metadata": {},
   "outputs": [],
   "source": []
  }
 ],
 "metadata": {
  "kernelspec": {
   "display_name": "TMS-Backend",
   "language": "python",
   "name": "python3"
  },
  "language_info": {
   "codemirror_mode": {
    "name": "ipython",
    "version": 3
   },
   "file_extension": ".py",
   "mimetype": "text/x-python",
   "name": "python",
   "nbconvert_exporter": "python",
   "pygments_lexer": "ipython3",
   "version": "3.11.0"
  }
 },
 "nbformat": 4,
 "nbformat_minor": 5
}
