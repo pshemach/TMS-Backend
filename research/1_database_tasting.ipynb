{
 "cells": [
  {
   "cell_type": "code",
   "execution_count": null,
   "id": "3a715ec0",
   "metadata": {},
   "outputs": [
    {
     "name": "stdout",
     "output_type": "stream",
     "text": [
      "c:\\Users\\HP\\OneDrive - University of Moratuwa\\Desktop\\TMS-Project\\TMS-Backend\n"
     ]
    }
   ],
   "source": [
    "%cd .."
   ]
  },
  {
   "cell_type": "code",
   "execution_count": 2,
   "id": "d1099cb2",
   "metadata": {},
   "outputs": [],
   "source": [
    "from dotenv import load_dotenv\n",
    "import os\n",
    "from pathlib import Path"
   ]
  },
  {
   "cell_type": "code",
   "execution_count": 3,
   "id": "e88c023e",
   "metadata": {},
   "outputs": [
    {
     "data": {
      "text/plain": [
       "True"
      ]
     },
     "execution_count": 3,
     "metadata": {},
     "output_type": "execute_result"
    }
   ],
   "source": [
    "load_dotenv()"
   ]
  },
  {
   "cell_type": "code",
   "execution_count": 4,
   "id": "cccacdab",
   "metadata": {},
   "outputs": [
    {
     "data": {
      "text/plain": [
       "WindowsPath('c:/Users/HP/OneDrive - University of Moratuwa/Desktop/TMS-Project/TMS-Backend')"
      ]
     },
     "execution_count": 4,
     "metadata": {},
     "output_type": "execute_result"
    }
   ],
   "source": [
    "Path().cwd()"
   ]
  },
  {
   "cell_type": "code",
   "execution_count": null,
   "id": "14077ad8",
   "metadata": {},
   "outputs": [],
   "source": [
    "# from src.database.database import engine\n",
    "# from src.database.models import GPSMaster\n",
    "# import pandas as pd"
   ]
  },
  {
   "cell_type": "code",
   "execution_count": null,
   "id": "8c035552",
   "metadata": {},
   "outputs": [],
   "source": [
    "# df = pd.read_sql(\"SELECT * FROM master_gps\", engine)"
   ]
  },
  {
   "cell_type": "code",
   "execution_count": 11,
   "id": "c8e0a02b",
   "metadata": {},
   "outputs": [],
   "source": [
    "from src.core.master import MasterManager\n",
    "\n",
    "manager = MasterManager()"
   ]
  },
  {
   "cell_type": "code",
   "execution_count": 12,
   "id": "08856cd3",
   "metadata": {},
   "outputs": [],
   "source": [
    "df = manager.gps_df"
   ]
  },
  {
   "cell_type": "code",
   "execution_count": 13,
   "id": "fd4e5efc",
   "metadata": {},
   "outputs": [
    {
     "data": {
      "text/html": [
       "<div>\n",
       "<style scoped>\n",
       "    .dataframe tbody tr th:only-of-type {\n",
       "        vertical-align: middle;\n",
       "    }\n",
       "\n",
       "    .dataframe tbody tr th {\n",
       "        vertical-align: top;\n",
       "    }\n",
       "\n",
       "    .dataframe thead th {\n",
       "        text-align: right;\n",
       "    }\n",
       "</style>\n",
       "<table border=\"1\" class=\"dataframe\">\n",
       "  <thead>\n",
       "    <tr style=\"text-align: right;\">\n",
       "      <th></th>\n",
       "      <th>id</th>\n",
       "      <th>shop_code</th>\n",
       "      <th>location</th>\n",
       "      <th>address</th>\n",
       "      <th>brand</th>\n",
       "      <th>district</th>\n",
       "      <th>latitude</th>\n",
       "      <th>longitude</th>\n",
       "    </tr>\n",
       "  </thead>\n",
       "  <tbody>\n",
       "    <tr>\n",
       "      <th>0</th>\n",
       "      <td>1</td>\n",
       "      <td>0</td>\n",
       "      <td>smak</td>\n",
       "      <td>Smak, Kadawatha, Sri Lanka</td>\n",
       "      <td>smak</td>\n",
       "      <td>Gampaha</td>\n",
       "      <td>7.003832</td>\n",
       "      <td>79.939480</td>\n",
       "    </tr>\n",
       "    <tr>\n",
       "      <th>1</th>\n",
       "      <td>2</td>\n",
       "      <td>3</td>\n",
       "      <td>Wattala SC</td>\n",
       "      <td>Arpico, Wattala</td>\n",
       "      <td>Arpico</td>\n",
       "      <td>Gampaha</td>\n",
       "      <td>6.990668</td>\n",
       "      <td>79.893171</td>\n",
       "    </tr>\n",
       "    <tr>\n",
       "      <th>2</th>\n",
       "      <td>3</td>\n",
       "      <td>4</td>\n",
       "      <td>Borelasgamuwa SS</td>\n",
       "      <td>Arpico, Borelasgamuwa</td>\n",
       "      <td>Arpico</td>\n",
       "      <td>Colombo</td>\n",
       "      <td>6.840989</td>\n",
       "      <td>79.901719</td>\n",
       "    </tr>\n",
       "    <tr>\n",
       "      <th>3</th>\n",
       "      <td>4</td>\n",
       "      <td>5</td>\n",
       "      <td>Hyde Park SC</td>\n",
       "      <td>Hyde Park SC, Sri Lanka</td>\n",
       "      <td>Arpico</td>\n",
       "      <td>Colombo</td>\n",
       "      <td>6.917587</td>\n",
       "      <td>79.858519</td>\n",
       "    </tr>\n",
       "  </tbody>\n",
       "</table>\n",
       "</div>"
      ],
      "text/plain": [
       "   id shop_code          location                     address   brand  \\\n",
       "0   1         0              smak  Smak, Kadawatha, Sri Lanka    smak   \n",
       "1   2         3        Wattala SC             Arpico, Wattala  Arpico   \n",
       "2   3         4  Borelasgamuwa SS       Arpico, Borelasgamuwa  Arpico   \n",
       "3   4         5      Hyde Park SC     Hyde Park SC, Sri Lanka  Arpico   \n",
       "\n",
       "  district  latitude  longitude  \n",
       "0  Gampaha  7.003832  79.939480  \n",
       "1  Gampaha  6.990668  79.893171  \n",
       "2  Colombo  6.840989  79.901719  \n",
       "3  Colombo  6.917587  79.858519  "
      ]
     },
     "execution_count": 13,
     "metadata": {},
     "output_type": "execute_result"
    }
   ],
   "source": [
    "df"
   ]
  },
  {
   "cell_type": "code",
   "execution_count": 19,
   "id": "f2f44009",
   "metadata": {},
   "outputs": [
    {
     "data": {
      "text/html": [
       "<div>\n",
       "<style scoped>\n",
       "    .dataframe tbody tr th:only-of-type {\n",
       "        vertical-align: middle;\n",
       "    }\n",
       "\n",
       "    .dataframe tbody tr th {\n",
       "        vertical-align: top;\n",
       "    }\n",
       "\n",
       "    .dataframe thead th {\n",
       "        text-align: right;\n",
       "    }\n",
       "</style>\n",
       "<table border=\"1\" class=\"dataframe\">\n",
       "  <thead>\n",
       "    <tr style=\"text-align: right;\">\n",
       "      <th></th>\n",
       "      <th>latitude</th>\n",
       "      <th>longitude</th>\n",
       "    </tr>\n",
       "  </thead>\n",
       "  <tbody>\n",
       "    <tr>\n",
       "      <th>0</th>\n",
       "      <td>7.003832</td>\n",
       "      <td>79.939480</td>\n",
       "    </tr>\n",
       "    <tr>\n",
       "      <th>1</th>\n",
       "      <td>6.990668</td>\n",
       "      <td>79.893171</td>\n",
       "    </tr>\n",
       "    <tr>\n",
       "      <th>2</th>\n",
       "      <td>6.840989</td>\n",
       "      <td>79.901719</td>\n",
       "    </tr>\n",
       "    <tr>\n",
       "      <th>3</th>\n",
       "      <td>6.917587</td>\n",
       "      <td>79.858519</td>\n",
       "    </tr>\n",
       "  </tbody>\n",
       "</table>\n",
       "</div>"
      ],
      "text/plain": [
       "   latitude  longitude\n",
       "0  7.003832  79.939480\n",
       "1  6.990668  79.893171\n",
       "2  6.840989  79.901719\n",
       "3  6.917587  79.858519"
      ]
     },
     "execution_count": 19,
     "metadata": {},
     "output_type": "execute_result"
    }
   ],
   "source": [
    "df[['latitude', 'longitude']]"
   ]
  }
 ],
 "metadata": {
  "kernelspec": {
   "display_name": "TMS-Backend",
   "language": "python",
   "name": "python3"
  },
  "language_info": {
   "codemirror_mode": {
    "name": "ipython",
    "version": 3
   },
   "file_extension": ".py",
   "mimetype": "text/x-python",
   "name": "python",
   "nbconvert_exporter": "python",
   "pygments_lexer": "ipython3",
   "version": "3.11.0"
  }
 },
 "nbformat": 4,
 "nbformat_minor": 5
}
